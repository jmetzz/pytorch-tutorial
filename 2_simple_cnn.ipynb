{
 "cells": [
  {
   "cell_type": "code",
   "execution_count": 12,
   "metadata": {},
   "outputs": [],
   "source": [
    "import torch\n",
    "import torch.nn as nn\n",
    "import torch.nn.functional as F\n",
    "\n",
    "class Net(nn.Module):\n",
    "    def __init__(self):\n",
    "        super(Net, self).__init__()\n",
    "        # 1 input image channel, 6 output channels, 3x3 square convolution kernel\n",
    "        self.conv1 = nn.Conv2d(1, 6, 3)\n",
    "        # 6 input image channel, 16 output channels, 3x3 square convolution kernel        \n",
    "        self.conv2 = nn.Conv2d(6, 16, 3)\n",
    "\n",
    "        # an affine operations: y = Wx + b\n",
    "        self.fc1 = nn.Linear(16 * 6 * 6, 120) # 6*6 from image dimention\n",
    "        self.fc2 = nn.Linear(120, 84)\n",
    "        self.fc3 = nn.Linear(84, 10)\n",
    "        \n",
    "    def forward(self, x):\n",
    "        # Whenever creating your own nn.Module implementation, \n",
    "        # you have to define the `forward` method.\n",
    "        # The `backward` funciton (for gradient calculation) \n",
    "        # is automatically defined via autograd.\n",
    "        \n",
    "        # Max pooling over a (2, 2) window\n",
    "        x = F.max_pool2d(F.relu(self.conv1(x)), (2,2))\n",
    "        \n",
    "        # If the size is a square you can only specify a single number\n",
    "        x = F.max_pool2d(F.relu(self.conv2(x)), 2)\n",
    "        \n",
    "        x = x.view(-1, self.num_flat_features(x))\n",
    "        x = F.relu(self.fc1(x))\n",
    "        x = F.relu(self.fc2(x))\n",
    "        x = self.fc3(x)\n",
    "        return x\n",
    "    \n",
    "    def num_flat_features(self, x):\n",
    "        size = x.size()[1:] # all dimensions except the batch dimension\n",
    "        num_features = 1\n",
    "        for s in size:\n",
    "            num_features *= s\n",
    "        return num_features\n",
    "        "
   ]
  },
  {
   "cell_type": "code",
   "execution_count": 13,
   "metadata": {
    "scrolled": true
   },
   "outputs": [
    {
     "name": "stdout",
     "output_type": "stream",
     "text": [
      "Net(\n",
      "  (conv1): Conv2d(1, 6, kernel_size=(3, 3), stride=(1, 1))\n",
      "  (conv2): Conv2d(6, 16, kernel_size=(3, 3), stride=(1, 1))\n",
      "  (fc1): Linear(in_features=576, out_features=120, bias=True)\n",
      "  (fc2): Linear(in_features=120, out_features=84, bias=True)\n",
      "  (fc3): Linear(in_features=84, out_features=10, bias=True)\n",
      ")\n"
     ]
    }
   ],
   "source": [
    "net = Net()\n",
    "print(net)"
   ]
  },
  {
   "cell_type": "code",
   "execution_count": 14,
   "metadata": {},
   "outputs": [
    {
     "name": "stdout",
     "output_type": "stream",
     "text": [
      "10\n",
      "torch.Size([6, 1, 3, 3])\n"
     ]
    }
   ],
   "source": [
    "params = list(net.parameters())\n",
    "print(len(params))\n",
    "print(params[0].size()) # conv1's .weight size"
   ]
  },
  {
   "cell_type": "code",
   "execution_count": 20,
   "metadata": {},
   "outputs": [
    {
     "name": "stdout",
     "output_type": "stream",
     "text": [
      "tensor([[ 0.0585,  0.0595,  0.0349,  0.0730,  0.0744, -0.0132, -0.0668, -0.0632,\n",
      "         -0.1290, -0.0956]], grad_fn=<AddmmBackward>)\n"
     ]
    }
   ],
   "source": [
    "input = torch.randn(1, 1, 32, 32) # random 32x32 input\n",
    "output = net(input)\n",
    "print(output)"
   ]
  },
  {
   "cell_type": "code",
   "execution_count": 21,
   "metadata": {},
   "outputs": [
    {
     "name": "stdout",
     "output_type": "stream",
     "text": [
      "tensor(1.0119, grad_fn=<MseLossBackward>)\n"
     ]
    }
   ],
   "source": [
    "target = torch.randn(10)\n",
    "target = target.view(1, -1) # reshape the target tensor to the same shape as output\n",
    "criterion = nn.MSELoss() #Severeal loss functions are available in nn package\n",
    "loss = criterion(output, target)\n",
    "print(loss)\n",
    "# net.zero_grad()\n",
    "# out.backward(torch.randn(1, 10)) # backpropagate the errors to calculate the gradients"
   ]
  },
  {
   "cell_type": "code",
   "execution_count": 22,
   "metadata": {},
   "outputs": [
    {
     "name": "stdout",
     "output_type": "stream",
     "text": [
      "<MseLossBackward object at 0x12214eef0>\n",
      "<AddmmBackward object at 0x12214efd0>\n",
      "<AccumulateGrad object at 0x12214eef0>\n"
     ]
    }
   ],
   "source": [
    "# the graph computaion now should look like this:\n",
    "# input -> conv2d -> relu -> maxpool2d -> conv2d -> relu -> maxpool2d \n",
    "#       -> view -> linear -> relu -> linear -> relu -> linear \n",
    "#       -> MSELoss\n",
    "#       -> loss\n",
    "\n",
    "# Thus, by calling loss.backward(), the whole graph is differentiated w.r.t. the loss value,\n",
    "# and all the tensors in the graph that has requires_grad=True will have their .grad tensor\n",
    "# accumulated with the gradient. Magic!\n",
    "\n",
    "print(loss.grad_fn) #MSELoss\n",
    "print(loss.grad_fn.next_functions[0][0]) # Linear\n",
    "print(loss.grad_fn.next_functions[0][0].next_functions[0][0]) # ReLu\n"
   ]
  },
  {
   "cell_type": "markdown",
   "metadata": {},
   "source": [
    "# Backprop the gradients\n",
    "We can propagate the error by using `loss.backward()` method. But first, you need to clear the existing gradients. Otherwise, gradients will be accumulated."
   ]
  },
  {
   "cell_type": "code",
   "execution_count": 23,
   "metadata": {},
   "outputs": [
    {
     "name": "stdout",
     "output_type": "stream",
     "text": [
      "net.conv1.bias.grad before backward: tensor([0., 0., 0., 0., 0., 0.])\n",
      "net.conv1.bias.grad after backward: tensor([-0.0121,  0.0167, -0.0187,  0.0097, -0.0055, -0.0093])\n"
     ]
    }
   ],
   "source": [
    "net.zero_grad()\n",
    "\n",
    "print(f\"net.conv1.bias.grad before backward: {net.conv1.bias.grad}\")\n",
    "\n",
    "loss.backward()\n",
    "print(f\"net.conv1.bias.grad after backward: {net.conv1.bias.grad}\")"
   ]
  },
  {
   "cell_type": "markdown",
   "metadata": {},
   "source": [
    "# Update the net weights\n",
    "\n",
    "Usually the weights are updated using a very simple rule: `weight = weight - learning_rate * gradient`.\n",
    "\n",
    "```python\n",
    "learning_rate = 0.01\n",
    "for f in net.parameters():\n",
    "    f.data.sub_(f.grad.data * learning_rate)\n",
    "```\n",
    "However, in a neural network you want to use something better. Various different update rules such as SGD, Nesterov-SGD, Adam, RMSProp, are implemented in the package `torch.optim`."
   ]
  },
  {
   "cell_type": "code",
   "execution_count": 25,
   "metadata": {},
   "outputs": [],
   "source": [
    "import torch.optim as optim\n",
    "optimizer = optim.SGD(net.parameters(), lr=0.01)     # Using Stochastic Gradient Descent to update the weights\n",
    "\n",
    "optimizer.zero_grad()                                # clean up the gradient buffers, otherwise they will accumulate\n",
    "output = net(input)\n",
    "loss = criterion(output, target)\n",
    "loss.backward()\n",
    "optimizer.step()                                     # Perform one step of the SGC optimization,\n",
    "                                                     # updating the network weights and biases.\n",
    "                                                     # Use this inside the training loop\n",
    "        "
   ]
  },
  {
   "cell_type": "code",
   "execution_count": null,
   "metadata": {},
   "outputs": [],
   "source": []
  }
 ],
 "metadata": {
  "kernelspec": {
   "display_name": "Python [conda env:pytorch] *",
   "language": "python",
   "name": "conda-env-pytorch-py"
  },
  "language_info": {
   "codemirror_mode": {
    "name": "ipython",
    "version": 3
   },
   "file_extension": ".py",
   "mimetype": "text/x-python",
   "name": "python",
   "nbconvert_exporter": "python",
   "pygments_lexer": "ipython3",
   "version": "3.7.3"
  }
 },
 "nbformat": 4,
 "nbformat_minor": 2
}
