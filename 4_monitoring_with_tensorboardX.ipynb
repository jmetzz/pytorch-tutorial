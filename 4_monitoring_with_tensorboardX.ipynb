{
 "cells": [
  {
   "cell_type": "code",
   "execution_count": 1,
   "metadata": {},
   "outputs": [
    {
     "data": {
      "text/plain": [
       "<torch._C.Generator at 0x10e3f9b90>"
      ]
     },
     "execution_count": 1,
     "metadata": {},
     "output_type": "execute_result"
    }
   ],
   "source": [
    "import torch\n",
    "import torch.nn as nn\n",
    "import torch.nn.functional as F\n",
    "import torch.optim as optim\n",
    "import matplotlib.pyplot as plt\n",
    "import numpy as np\n",
    "import random\n",
    "from tqdm import tqdm_notebook as tqdm\n",
    "\n",
    "import torchvision\n",
    "# Then package torchvision, that has data loaders for common datasets such as \n",
    "# Imagenet, CIFAR10, MNIST, etc. and data transformers for images, viz., \n",
    "# torchvision.datasets and torch.utils.data.DataLoader.\n",
    "import torchvision.transforms as transforms\n",
    "\n",
    "# CIFAR10 dataset\n",
    "#     classes: ‘airplane’, ‘automobile’, ‘bird’, ‘cat’, ‘deer’, ‘dog’, ‘frog’, ‘horse’, ‘ship’, ‘truck’. \n",
    "#     images: size 3x32x32, i.e. 3-channel color images of 32x32 pixels in size.\n",
    "# The output of torchvision datasets are PILImage images of range [0, 1], which then we have to transform \n",
    "# into normalized Tensors with range [-1, 1]\n",
    "\n",
    "from tensorboardX import SummaryWriter\n",
    "\n",
    "%matplotlib inline\n",
    "random.seed(31)\n",
    "torch.manual_seed(31)\n"
   ]
  },
  {
   "cell_type": "markdown",
   "metadata": {},
   "source": [
    "# Utility functions"
   ]
  },
  {
   "cell_type": "code",
   "execution_count": 2,
   "metadata": {},
   "outputs": [],
   "source": [
    "def image_show(img):\n",
    "    img = img / 2 + 0.5 #normalization\n",
    "    np_image = img.numpy()\n",
    "    plt.figure(figsize=(10,10))\n",
    "    plt.imshow(np.transpose(np_image, (1, 2, 0)))\n",
    "    plt.show()\n",
    "\n",
    "def image_grid_show(image_grid):\n",
    "    image_show(torchvision.utils.make_grid(image_grid, nrow=batch_size//2))"
   ]
  },
  {
   "cell_type": "markdown",
   "metadata": {},
   "source": [
    "# Network class definition\n"
   ]
  },
  {
   "cell_type": "code",
   "execution_count": 12,
   "metadata": {},
   "outputs": [],
   "source": [
    "class Net(nn.Module):\n",
    "    def __init__(self):\n",
    "        super(Net, self).__init__()\n",
    "        # 3 input image channel, 6 output channels, 5x5 square convolution kernel\n",
    "        self.conv1 = nn.Conv2d(3, 6, 5)\n",
    "        self.pool = nn.MaxPool2d(2, 2)\n",
    "        self.conv2 = nn.Conv2d(6, 16, 5)\n",
    "        # an affine operations: y = Wx + b\n",
    "        self.fc1 = nn.Linear(16 * 5 * 5, 120)\n",
    "        self.fc2 = nn.Linear(120, 84)\n",
    "        self.fc3 = nn.Linear(84, 10)\n",
    "        \n",
    "    def forward(self, x):\n",
    "        x = self.pool(F.relu(self.conv1(x)))\n",
    "        x = self.pool(F.relu(self.conv2(x)))\n",
    "        x = x.view(-1, 16 * 5 * 5) # prepare the input for the fully connected layer\n",
    "        x = F.relu(self.fc1(x))\n",
    "        x = F.relu(self.fc2(x))\n",
    "        return self.fc3(x)       "
   ]
  },
  {
   "cell_type": "markdown",
   "metadata": {},
   "source": [
    "# Train the network"
   ]
  },
  {
   "cell_type": "markdown",
   "metadata": {},
   "source": [
    "## Default parameters"
   ]
  },
  {
   "cell_type": "code",
   "execution_count": 13,
   "metadata": {},
   "outputs": [],
   "source": [
    "batch_size=10\n",
    "epochs=3\n",
    "learning_rate=0.001\n",
    "momentum=0.9\n",
    "log_event_path=\"./logs\""
   ]
  },
  {
   "cell_type": "markdown",
   "metadata": {},
   "source": [
    "## Data preparation & exploration"
   ]
  },
  {
   "cell_type": "code",
   "execution_count": 14,
   "metadata": {},
   "outputs": [
    {
     "name": "stdout",
     "output_type": "stream",
     "text": [
      "Files already downloaded and verified\n",
      "Files already downloaded and verified\n"
     ]
    }
   ],
   "source": [
    "# Load and normalizing the CIFAR10 training and test datasets using torchvision\n",
    "transform = transforms.Compose([transforms.ToTensor(), transforms.Normalize(mean=(0.5, 0.5, 0.5), std=(0.5, 0.5, 0.5))])\n",
    "train_set = torchvision.datasets.CIFAR10(root='./data', train=True, download=True, transform=transform)\n",
    "train_loader = torch.utils.data.DataLoader(train_set, batch_size=batch_size, shuffle=True, num_workers=2)\n",
    "test_set = torchvision.datasets.CIFAR10(root='./data', train=False, download=True, transform=transform)\n",
    "test_loader = torch.utils.data.DataLoader(test_set, batch_size=batch_size, shuffle=False, num_workers=2)\n",
    "classes = ('plane', 'car', 'bird', 'cat', 'deer', 'dog', 'frog', 'horse', 'ship', 'truck')"
   ]
  },
  {
   "cell_type": "markdown",
   "metadata": {},
   "source": [
    "## Network instantiation and start the training loop"
   ]
  },
  {
   "cell_type": "code",
   "execution_count": 18,
   "metadata": {},
   "outputs": [
    {
     "name": "stdout",
     "output_type": "stream",
     "text": [
      "Net(\n",
      "  (conv1): Conv2d(3, 6, kernel_size=(5, 5), stride=(1, 1))\n",
      "  (pool): MaxPool2d(kernel_size=2, stride=2, padding=0, dilation=1, ceil_mode=False)\n",
      "  (conv2): Conv2d(6, 16, kernel_size=(5, 5), stride=(1, 1))\n",
      "  (fc1): Linear(in_features=400, out_features=120, bias=True)\n",
      "  (fc2): Linear(in_features=120, out_features=84, bias=True)\n",
      "  (fc3): Linear(in_features=84, out_features=10, bias=True)\n",
      ")\n"
     ]
    }
   ],
   "source": [
    "net = Net()\n",
    "criterion = nn.CrossEntropyLoss()\n",
    "optimizer = optim.SGD(net.parameters(), lr=learning_rate, momentum=momentum)\n",
    "print(net)"
   ]
  },
  {
   "cell_type": "code",
   "execution_count": 16,
   "metadata": {},
   "outputs": [],
   "source": [
    "# Setup tensorboard writers\n",
    "from datetime import datetime\n",
    "suffix = f\"run-{datetime.now()}\".replace(\" \", \"_\").replace(\":\", \"_\")\n",
    "writer = SummaryWriter(\"/\".join([log_event_path, suffix]))\n"
   ]
  },
  {
   "cell_type": "code",
   "execution_count": 17,
   "metadata": {},
   "outputs": [
    {
     "data": {
      "application/vnd.jupyter.widget-view+json": {
       "model_id": "e3ac5a8363094d2ba98e9a5d3bca7dc2",
       "version_major": 2,
       "version_minor": 0
      },
      "text/plain": [
       "HBox(children=(IntProgress(value=0, description='Epochs', max=3, style=ProgressStyle(description_width='initia…"
      ]
     },
     "metadata": {},
     "output_type": "display_data"
    },
    {
     "data": {
      "application/vnd.jupyter.widget-view+json": {
       "model_id": "0ee8cdd4f1af4cbd92ae8a73b5b7b5b2",
       "version_major": 2,
       "version_minor": 0
      },
      "text/plain": [
       "HBox(children=(IntProgress(value=1, bar_style='info', description='Batches', max=1, style=ProgressStyle(descri…"
      ]
     },
     "metadata": {},
     "output_type": "display_data"
    },
    {
     "name": "stdout",
     "output_type": "stream",
     "text": [
      "10\n",
      "\n"
     ]
    },
    {
     "data": {
      "application/vnd.jupyter.widget-view+json": {
       "model_id": "4a6ec9d99b4f43478a6dd2ec5ce8de20",
       "version_major": 2,
       "version_minor": 0
      },
      "text/plain": [
       "HBox(children=(IntProgress(value=1, bar_style='info', description='Batches', max=1, style=ProgressStyle(descri…"
      ]
     },
     "metadata": {},
     "output_type": "display_data"
    },
    {
     "name": "stdout",
     "output_type": "stream",
     "text": [
      "10\n",
      "\n"
     ]
    },
    {
     "data": {
      "application/vnd.jupyter.widget-view+json": {
       "model_id": "29d648419e324e508fe70f77c750bf61",
       "version_major": 2,
       "version_minor": 0
      },
      "text/plain": [
       "HBox(children=(IntProgress(value=1, bar_style='info', description='Batches', max=1, style=ProgressStyle(descri…"
      ]
     },
     "metadata": {},
     "output_type": "display_data"
    },
    {
     "name": "stdout",
     "output_type": "stream",
     "text": [
      "10\n",
      "\n",
      "\n",
      "Training finished\n"
     ]
    }
   ],
   "source": [
    "for epoch in tqdm(range(epochs), desc=\"Epochs\"):\n",
    "    running_loss = 0.0\n",
    "    for iteration, data in tqdm(enumerate(train_loader, 0), desc= \"Batches\"):\n",
    "        inputs, labels = data\n",
    "        # clean up all the parameter gradients\n",
    "        optimizer.zero_grad()\n",
    "        \n",
    "        print(len(inputs))\n",
    "        break\n",
    "        \n",
    "        # forward + backward + optimize \n",
    "        outputs = net(inputs)\n",
    "        loss = criterion(outputs, labels)\n",
    "        loss.backward()            \n",
    "        optimizer.step()\n",
    "       \n",
    "        # print statistics\n",
    "        running_loss += loss.item()   # `.item()` to get the value of a tensor\n",
    "        if iteration % 2000 == 1999:\n",
    "            print(f\"Epoch {epoch + 1}, iteration {iteration + 1} -> loss: {(running_loss / 2000):.3f}\")\n",
    "            running_loss = 0.0\n",
    "        \n",
    "        # tensorboardX event logs\n",
    "        writer.add_scalar('iter loss', running_loss, iteration)\n",
    "    \n",
    "    avg_loss = running_loss / (len(train_loader))\n",
    "    writer.add_scalar('epoch loss', avg_loss, epoch)\n",
    "\n",
    "print(\"Training finished\")"
   ]
  },
  {
   "cell_type": "markdown",
   "metadata": {},
   "source": [
    "# Evaluate the model"
   ]
  },
  {
   "cell_type": "code",
   "execution_count": 31,
   "metadata": {},
   "outputs": [
    {
     "name": "stdout",
     "output_type": "stream",
     "text": [
      "Accuracy on 10000 test images: 10.04\n"
     ]
    }
   ],
   "source": [
    "# classify the full test set\n",
    "correct = 0\n",
    "total = 0\n",
    "with torch.no_grad():                      # avoid keeping the gradients\n",
    "    for data in test_loader:\n",
    "        inputs, labels = data\n",
    "        outputs = net(images)\n",
    "        _, predicted = torch.max(outputs.data, 1)\n",
    "        total += labels.size(0)\n",
    "        correct += (predicted == labels).sum().item()\n",
    "\n",
    "print(f\"Accuracy on {total} test images: {(100 * correct / total):.2f}\")"
   ]
  },
  {
   "cell_type": "code",
   "execution_count": 9,
   "metadata": {},
   "outputs": [
    {
     "data": {
      "application/vnd.jupyter.widget-view+json": {
       "model_id": "4e2c937ee12c436eb375a9f853525f6d",
       "version_major": 2,
       "version_minor": 0
      },
      "text/plain": [
       "HBox(children=(IntProgress(value=0, description='Batches', max=1000, style=ProgressStyle(description_width='in…"
      ]
     },
     "metadata": {},
     "output_type": "display_data"
    },
    {
     "name": "stdout",
     "output_type": "stream",
     "text": [
      "\n",
      "Accuracy of plane : 0.00%\n",
      "Accuracy of car   : 0.00%\n",
      "Accuracy of bird  : 20.90%\n",
      "Accuracy of cat   : 20.10%\n",
      "Accuracy of deer  : 9.30%\n",
      "Accuracy of dog   : 0.00%\n",
      "Accuracy of frog  : 21.40%\n",
      "Accuracy of horse : 19.60%\n",
      "Accuracy of ship  : 10.60%\n",
      "Accuracy of truck : 0.00%\n"
     ]
    }
   ],
   "source": [
    "# Measuring acc per class\n",
    "class_correct = [0] * len(classes)\n",
    "class_total = [0] * len(classes)\n",
    "with torch.no_grad():\n",
    "    for i, data in tqdm(enumerate(test_loader), total=10000//batch_size, desc=\"Batches\"):\n",
    "        inputs, labels = data\n",
    "        outputs = net(images)\n",
    "        # the net returns a tensor per image \n",
    "        # containing the classification 'score' per classs.\n",
    "        # Thus, we use `.max` to identify the most probable classification\n",
    "        _, predicted = torch.max(outputs, 1)\n",
    "        is_correct = (predicted == labels).squeeze()\n",
    "        for i in range(len(labels)):\n",
    "            true_label = labels[i]\n",
    "            class_correct[true_label] += is_correct[i].item()\n",
    "            class_total[true_label] += 1\n",
    "\n",
    "for i in range(len(classes)):\n",
    "    print(f\"Accuracy of {classes[i]:5s} : {(100 * class_correct[i] / class_total[i]):.2f}%\")\n",
    "            "
   ]
  },
  {
   "cell_type": "code",
   "execution_count": null,
   "metadata": {},
   "outputs": [],
   "source": [
    "        \n"
   ]
  }
 ],
 "metadata": {
  "kernelspec": {
   "display_name": "Python [conda env:pytorch] *",
   "language": "python",
   "name": "conda-env-pytorch-py"
  },
  "language_info": {
   "codemirror_mode": {
    "name": "ipython",
    "version": 3
   },
   "file_extension": ".py",
   "mimetype": "text/x-python",
   "name": "python",
   "nbconvert_exporter": "python",
   "pygments_lexer": "ipython3",
   "version": "3.7.3"
  }
 },
 "nbformat": 4,
 "nbformat_minor": 2
}
